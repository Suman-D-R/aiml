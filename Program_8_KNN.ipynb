{
 "cells": [
  {
   "cell_type": "code",
   "execution_count": 41,
   "id": "f03a8b56",
   "metadata": {},
   "outputs": [
    {
     "name": "stdout",
     "output_type": "stream",
     "text": [
      "Iris dataset loaded...\n",
      "Dataset is split into training and testing...\n",
      "Size of training data and its label (135, 4) (135,)\n",
      "Size of testing data and its label (15, 4) (15,)\n",
      "Label 0 - setosa\n",
      "Label 1 - versicolor\n",
      "Label 2 - virginica\n",
      "Results of classification using K-nn with K=2\n",
      "Sample: [5.8 2.8 5.1 2.4] Actual-label: 2 Predicted-label: 2\n",
      "Sample: [6.  2.2 4.  1. ] Actual-label: 1 Predicted-label: 1\n",
      "Sample: [5.5 4.2 1.4 0.2] Actual-label: 0 Predicted-label: 0\n",
      "Sample: [7.3 2.9 6.3 1.8] Actual-label: 2 Predicted-label: 2\n",
      "Sample: [5.  3.4 1.5 0.2] Actual-label: 0 Predicted-label: 0\n",
      "Sample: [6.3 3.3 6.  2.5] Actual-label: 2 Predicted-label: 2\n",
      "Sample: [5.  3.5 1.3 0.3] Actual-label: 0 Predicted-label: 0\n",
      "Sample: [6.7 3.1 4.7 1.5] Actual-label: 1 Predicted-label: 1\n",
      "Sample: [6.8 2.8 4.8 1.4] Actual-label: 1 Predicted-label: 1\n",
      "Sample: [6.1 2.8 4.  1.3] Actual-label: 1 Predicted-label: 1\n",
      "Sample: [6.1 2.6 5.6 1.4] Actual-label: 2 Predicted-label: 1\n",
      "Sample: [6.4 3.2 4.5 1.5] Actual-label: 1 Predicted-label: 1\n",
      "Sample: [6.1 2.8 4.7 1.2] Actual-label: 1 Predicted-label: 1\n",
      "Sample: [6.5 2.8 4.6 1.5] Actual-label: 1 Predicted-label: 1\n",
      "Sample: [6.1 2.9 4.7 1.4] Actual-label: 1 Predicted-label: 1\n",
      "Calssification Acurracy; 0.9333333333333333\n"
     ]
    }
   ],
   "source": [
    "from sklearn.model_selection import train_test_split\n",
    "from sklearn.neighbors import KNeighborsClassifier\n",
    "from sklearn import datasets\n",
    "\n",
    "iris = datasets.load_iris()\n",
    "print('Iris dataset loaded...')\n",
    "\n",
    "x_train, x_test, y_train, y_test = train_test_split(iris.data, iris.target, test_size=0.1, random_state=False)\n",
    "\n",
    "print('Dataset is split into training and testing...')\n",
    "\n",
    "print('Size of training data and its label', x_train.shape, y_train.shape)\n",
    "print('Size of testing data and its label', x_test.shape, y_test.shape)\n",
    "\n",
    "for i in range(len(iris.target_names)):\n",
    "    print('Label',i,'-',str(iris.target_names[i]))\n",
    "classifier = KNeighborsClassifier(n_neighbors=2)\n",
    "classifier.fit(x_train,y_train)\n",
    "\n",
    "y_pred = classifier.predict(x_test)\n",
    "print('Results of classification using K-nn with K=2')\n",
    "for r in range(0,len(x_test)):\n",
    "    print('Sample:',str(x_test[r]), 'Actual-label:',str(y_test[r]), 'Predicted-label:', str(y_pred[r]))\n",
    "print('Calssification Acurracy;', classifier.score(x_test,y_test))"
   ]
  }
 ],
 "metadata": {
  "kernelspec": {
   "display_name": "Python 3 (ipykernel)",
   "language": "python",
   "name": "python3"
  },
  "language_info": {
   "codemirror_mode": {
    "name": "ipython",
    "version": 3
   },
   "file_extension": ".py",
   "mimetype": "text/x-python",
   "name": "python",
   "nbconvert_exporter": "python",
   "pygments_lexer": "ipython3",
   "version": "3.9.12"
  }
 },
 "nbformat": 4,
 "nbformat_minor": 5
}
